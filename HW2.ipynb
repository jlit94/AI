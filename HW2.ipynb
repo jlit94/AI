{
  "nbformat": 4,
  "nbformat_minor": 0,
  "metadata": {
    "colab": {
      "provenance": [],
      "authorship_tag": "ABX9TyNRE4XFYP4RQlLLuzx2BePk",
      "include_colab_link": true
    },
    "kernelspec": {
      "name": "python3",
      "display_name": "Python 3"
    },
    "language_info": {
      "name": "python"
    }
  },
  "cells": [
    {
      "cell_type": "markdown",
      "metadata": {
        "id": "view-in-github",
        "colab_type": "text"
      },
      "source": [
        "<a href=\"https://colab.research.google.com/github/jlit94/AI/blob/main/HW2.ipynb\" target=\"_parent\"><img src=\"https://colab.research.google.com/assets/colab-badge.svg\" alt=\"Open In Colab\"/></a>"
      ]
    },
    {
      "cell_type": "code",
      "execution_count": 23,
      "metadata": {
        "colab": {
          "base_uri": "https://localhost:8080/"
        },
        "id": "mtikho85a3l3",
        "outputId": "1e7ef0ff-10fb-4104-ca9c-e8da5b268ebd"
      },
      "outputs": [
        {
          "output_type": "stream",
          "name": "stdout",
          "text": [
            "===> large: 0, small: 0\n",
            "===> large: 5, small: 0\n",
            "===> large: 2, small: 3\n",
            "===> large: 2, small: 0\n",
            "===> large: 0, small: 2\n",
            "===> large: 5, small: 2\n",
            "===> large: 4, small: 3\n",
            "Goal State Reached\n"
          ]
        }
      ],
      "source": [
        "class WaterJugPuzzle():\n",
        "\n",
        "  #Defining the state with empty jugs, one for the large jug and one for the small\n",
        "  def __init__(self):\n",
        "        self.large = 0\n",
        "        self.small = 0\n",
        "\n",
        "  #Checking to make sure large jug is not in illegal state\n",
        "  def is_large_ok(self):\n",
        "    if self.large <= 5:\n",
        "      return True\n",
        "    else:\n",
        "      return False\n",
        "\n",
        "  def is_large_empty(self):\n",
        "    if self.large == 0:\n",
        "      return True\n",
        "    else:\n",
        "      return False\n",
        "\n",
        "  #Checking to make sure small jug is not in illegal state\n",
        "  def is_small_ok(self):\n",
        "    if self.small <= 3:\n",
        "      return True\n",
        "    else:\n",
        "      return False\n",
        "\n",
        "  def is_small_empty(self):\n",
        "    if self.small == 0:\n",
        "      return True\n",
        "    else:\n",
        "      return False\n",
        "\n",
        "  #Checking overall state after each move\n",
        "  def is_state_ok(self):\n",
        "    if self.is_small_ok and self.is_large_ok:\n",
        "      self.print_state()\n",
        "    else:\n",
        "      print(\"Overflow\")\n",
        "\n",
        "  #Rule 1: Fill large jug directly\n",
        "  def fill_large(self):\n",
        "    if self.is_large_empty:\n",
        "      self.large = 5\n",
        "    else:\n",
        "      self.large = self.large + (5 - self.large)\n",
        "\n",
        "  #Rule 2: Fill small jug directly\n",
        "  def fill_small(self):\n",
        "    if self.is_small_empty:\n",
        "      self.small = 3\n",
        "    else:\n",
        "      self.small = self.small + (3 - self.small)\n",
        "\n",
        "  #Rule 3: Fill small from large\n",
        "  def large_fills_small(self):\n",
        "    if not self.is_small_empty and self.large == 5:\n",
        "      temp = 3 - self.small\n",
        "      self.small = self.small + temp\n",
        "      self.large = self.large - temp\n",
        "    elif self.is_small_empty and self.large > 3 and self.large < 5:\n",
        "      self.large = self.large - 3\n",
        "      self.small = 3\n",
        "    else:\n",
        "      if self.large < 3:\n",
        "        self.small = self.small + self.large\n",
        "        self.large = self.large - self.large\n",
        "      else:\n",
        "        self.large = self.large - (3 - self.small)\n",
        "        self.small = self.small + (3 - self.small)\n",
        "\n",
        "  def empty_small(self):\n",
        "    self.small = 0\n",
        "\n",
        "  def empty_large(self):\n",
        "    self.large = 0\n",
        "\n",
        "  def print_state(self):\n",
        "    print(\"===> large: {s}, small: {h}\".format(s=self.large, h=self.small))\n",
        "\n",
        "jugs = WaterJugPuzzle()\n",
        "jugs.is_state_ok()\n",
        "\n",
        "while jugs.large != 4:\n",
        "  jugs.fill_large()\n",
        "  jugs.is_state_ok()\n",
        "\n",
        "  jugs.large_fills_small()\n",
        "  jugs.is_state_ok()\n",
        "\n",
        "  jugs.empty_small()\n",
        "  jugs.is_state_ok()\n",
        "\n",
        "  jugs.large_fills_small()\n",
        "  jugs.is_state_ok()\n",
        "\n",
        "  jugs.fill_large()\n",
        "  jugs.is_state_ok()\n",
        "\n",
        "  jugs.large_fills_small()\n",
        "  jugs.is_state_ok()\n",
        "\n",
        "print(\"Goal State Reached\")"
      ]
    }
  ]
}