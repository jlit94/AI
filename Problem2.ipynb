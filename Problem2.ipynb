{
  "nbformat": 4,
  "nbformat_minor": 0,
  "metadata": {
    "colab": {
      "provenance": [],
      "authorship_tag": "ABX9TyMaT/ntt3A7L070JtdGtpId",
      "include_colab_link": true
    },
    "kernelspec": {
      "name": "python3",
      "display_name": "Python 3"
    },
    "language_info": {
      "name": "python"
    }
  },
  "cells": [
    {
      "cell_type": "markdown",
      "metadata": {
        "id": "view-in-github",
        "colab_type": "text"
      },
      "source": [
        "<a href=\"https://colab.research.google.com/github/jlit94/AI/blob/main/Problem2.ipynb\" target=\"_parent\"><img src=\"https://colab.research.google.com/assets/colab-badge.svg\" alt=\"Open In Colab\"/></a>"
      ]
    },
    {
      "cell_type": "markdown",
      "source": [
        "Author: A.J. Litchfield\n",
        "\n",
        "The purpose of this assignment is to write an algorithm that uses BFS to discover potentially missing immediate connections in a network. For example, for the network G shown at time t.\n",
        "\n"
      ],
      "metadata": {
        "id": "p2aHf_lMa797"
      }
    },
    {
      "cell_type": "code",
      "execution_count": 45,
      "metadata": {
        "colab": {
          "base_uri": "https://localhost:8080/"
        },
        "id": "kYEJP52za5pE",
        "outputId": "cd39eab6-2b7e-4a03-e9cd-603ec0ff3322"
      },
      "outputs": [
        {
          "output_type": "stream",
          "name": "stdout",
          "text": [
            "deque(['David', 'Sophia', 'Maya'])\n",
            "deque(['Maya', 'Adam', 'Sophia'])\n",
            "deque(['Maya', 'Adam', 'David'])\n"
          ]
        }
      ],
      "source": [
        "from collections import deque\n",
        "\n",
        "# Start the graph search from root using a doubly-ended queue\n",
        "\n",
        "def PotentialFriends(graph, friend):\n",
        "\n",
        "    # deque is list-like container with fast appends and pops on either end\n",
        "      visited, queue = set(), deque([friend])\n",
        "      visited.add(friend)\n",
        "\n",
        "      # starting a level tracker\n",
        "      level = 0\n",
        "\n",
        "    # Keep exploring as long as the queue is not empty\n",
        "      while queue:\n",
        "\n",
        "        # Dequeue a vertex from queue\n",
        "        vertex = queue.popleft()\n",
        "        # print(vertex, end=\" \")\n",
        "\n",
        "        # If not visited, mark it as visited, and enqueue it\n",
        "        for neighbor in graph[vertex]:\n",
        "            if neighbor not in visited:\n",
        "                visited.add(neighbor)\n",
        "                queue.append(neighbor)\n",
        "\n",
        "        # tracks the level of the search, we only want friends who\n",
        "        # are past level 1 because that means they are not connected by\n",
        "        # an edge\n",
        "        level = level + 1\n",
        "\n",
        "        if level > 1:\n",
        "          print(queue)\n",
        "          break\n",
        "\n",
        "# Represent the graph using an adjacency list\n",
        "\n",
        "G = {\n",
        "  'Adam' : ['Maria'],\n",
        "  'Maria' : ['Adam', 'David', 'Sophia', 'Maya'],\n",
        "  'David' : ['Maria', 'Maya'],\n",
        "  'Sophia' : ['Maria', 'Maya'],\n",
        "  'Maya' : ['Sophia', 'Maria', 'David']\n",
        "}\n",
        "\n",
        "PotentialFriends(G, 'Adam')\n",
        "PotentialFriends(G, 'David')\n",
        "PotentialFriends(G, 'Sophia')\n",
        "\n"
      ]
    }
  ]
}