{
  "nbformat": 4,
  "nbformat_minor": 0,
  "metadata": {
    "colab": {
      "provenance": [],
      "authorship_tag": "ABX9TyM7ZagncZ7bpUtz5VRazNiA",
      "include_colab_link": true
    },
    "kernelspec": {
      "name": "python3",
      "display_name": "Python 3"
    },
    "language_info": {
      "name": "python"
    }
  },
  "cells": [
    {
      "cell_type": "markdown",
      "metadata": {
        "id": "view-in-github",
        "colab_type": "text"
      },
      "source": [
        "<a href=\"https://colab.research.google.com/github/jlit94/AI/blob/main/Problem1.ipynb\" target=\"_parent\"><img src=\"https://colab.research.google.com/assets/colab-badge.svg\" alt=\"Open In Colab\"/></a>"
      ]
    },
    {
      "cell_type": "markdown",
      "source": [
        "Author: A.J. Litchfield\n",
        "\n",
        "The purpose of this assignment is to use a BFS algorithm to return the kth-level friend for a given user and graph"
      ],
      "metadata": {
        "id": "-KJpMC_YxFRS"
      }
    },
    {
      "cell_type": "code",
      "source": [
        "from collections import deque\n",
        "\n",
        "# Start the graph search from root using a doubly-ended queue\n",
        "\n",
        "def FindFriends(graph, root, level):\n",
        "\n",
        "    # deque is list-like container with fast appends and pops on either end\n",
        "    visited, queue = set(), deque([(root, 0)])  # Store level with each vertex\n",
        "    visited.add(root)\n",
        "\n",
        "    #while the queue is not empty, pop off the vertex and the level that vertex is at\n",
        "    while queue:\n",
        "        vertex, vertex_level = queue.popleft()\n",
        "\n",
        "        #if the vertex level is the goal state, print the vertex\n",
        "        if vertex_level == level:\n",
        "            print(vertex, end=\" \")\n",
        "\n",
        "        #if not, go to the next neighbor that is not in visited and repeat\n",
        "        else:\n",
        "            for neighbor in graph[vertex]:\n",
        "                if neighbor not in visited:\n",
        "                    visited.add(neighbor)\n",
        "                    queue.append((neighbor, vertex_level + 1))\n",
        "        current_level = vertex_level + 1\n",
        "\n",
        "# Represent the graph using an adjacency list\n",
        "\n",
        "G = {\n",
        "  'Bob' : ['Richard','Rob', 'Pam'],\n",
        "  'Richard' : [],\n",
        "  'Rob' : [],\n",
        "  'Pam' : ['Peter', 'Roger'],\n",
        "  'Peter' : ['Amy'],\n",
        "  'Roger' : ['Anna'],\n",
        "  'Amy' : [],\n",
        "  'Anna' : []\n",
        "}\n",
        "\n",
        "FindFriends(G, 'Bob', 3)\n",
        "\n"
      ],
      "metadata": {
        "colab": {
          "base_uri": "https://localhost:8080/"
        },
        "outputId": "6cbd29e0-db0c-4743-bad0-22208901e46c",
        "id": "x29LTvVzzqd6"
      },
      "execution_count": 4,
      "outputs": [
        {
          "output_type": "stream",
          "name": "stdout",
          "text": [
            "Amy Anna "
          ]
        }
      ]
    }
  ]
}