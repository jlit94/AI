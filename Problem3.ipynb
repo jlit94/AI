{
  "nbformat": 4,
  "nbformat_minor": 0,
  "metadata": {
    "colab": {
      "provenance": [],
      "authorship_tag": "ABX9TyN2PJ1BUz4UM//eMnyYYo+D",
      "include_colab_link": true
    },
    "kernelspec": {
      "name": "python3",
      "display_name": "Python 3"
    },
    "language_info": {
      "name": "python"
    }
  },
  "cells": [
    {
      "cell_type": "markdown",
      "metadata": {
        "id": "view-in-github",
        "colab_type": "text"
      },
      "source": [
        "<a href=\"https://colab.research.google.com/github/jlit94/AI/blob/main/Problem3.ipynb\" target=\"_parent\"><img src=\"https://colab.research.google.com/assets/colab-badge.svg\" alt=\"Open In Colab\"/></a>"
      ]
    },
    {
      "cell_type": "markdown",
      "source": [
        "Author: A.J. Litchfield\n",
        "\n",
        "Write a DFS algorithm which when given a start node and a goal node, it returns SUCCESS if the goal is reachable and FAILURE otherwise. Your algorithm should test both graphs shown below and return SUCCESS for the first graph and FAILURE for the second one."
      ],
      "metadata": {
        "id": "ISnMyEN8yqQG"
      }
    },
    {
      "cell_type": "code",
      "execution_count": null,
      "metadata": {
        "id": "IkOuC9eAyoCG"
      },
      "outputs": [],
      "source": [
        "\n",
        "def __init__(self, x, y, parent=None):\n",
        "        # Initializes a node with its coordinates\n",
        "        # and optional parent for tracking path.\n",
        "        self.x = x\n",
        "        self.y = y\n",
        "        self.parent = parent\n",
        "\n",
        "def is_valid(maze, x, y):\n",
        "    # Checks if a given coordinate is within the maze\n",
        "    # boundaries and represents a valid path (not a wall).\n",
        "    if 0 <= x < len(maze) and 0 <= y < len(maze[0]) and maze[x][y] == 1:\n",
        "        return True\n",
        "    return False\n",
        "\n",
        "def dfs(maze, start, goal):\n",
        "    # Performs Depth-First Search on the maze\n",
        "    # to find the goal node from the start.\n",
        "    visited = [[False for _ in range(len(maze[0]))] for _ in range(len(maze))]\n",
        "\n",
        "    # Creates a 2D boolean array to track visited nodes, initially all False.\n",
        "    stack = [start]\n",
        "    visited[start.x][start.y] = True\n",
        "    # Initializes a stack with the start node and marks it as visited.\n",
        "\n",
        "    while stack:\n",
        "        # Continues loop while there are nodes to explore in the stack.\n",
        "        node = stack.pop()\n",
        "\n",
        "        # Pops the current node from the stack.\n",
        "        if node.x == goal.x and node.y == goal.y:\n",
        "\n",
        "            # Checks if the current node is the goal node.\n",
        "            return \"SUCCESS\"\n",
        "\n",
        "        for dx, dy in [(0, 1), (1, 0), (0, -1), (-1, 0)]:\n",
        "\n",
        "            # Iterates over all four neighbors\n",
        "            # (up, down, left, right) of the current node.\n",
        "\n",
        "            new_x = node.x + dx\n",
        "            new_y = node.y + dy\n",
        "\n",
        "            if is_valid(maze, new_x, new_y) and not visited[new_x][new_y]:\n",
        "                # Checks if the neighbor is within the maze,\n",
        "                # a valid path, and not yet visited.\n",
        "\n",
        "                visited[new_x][new_y] = True\n",
        "                stack.append(Node(new_x, new_y, node))\n",
        "\n",
        "                # If valid, marks the neighbor as visited,\n",
        "                # adds it to the stack with parent reference,\n",
        "                # and continues exploring from this neighbor.\n",
        "\n",
        "    return \"FAILURE\""
      ]
    }
  ]
}